{
 "cells": [
  {
   "cell_type": "markdown",
   "metadata": {},
   "source": [
    "# Movie Recommendation System"
   ]
  },
  {
   "cell_type": "markdown",
   "metadata": {},
   "source": [
    "Recommender systems are utilized in a variety of areas, and are most commonly recognized as playlist generators for video and music services like Netflix, YouTube and Spotify, product recommenders for services such as Amazon, or content recommenders for social media platforms such as Facebook and Twitter.\n",
    "<br>\n",
    "Recommender systems usually make use of either or both <b>Collaborative Filtering</b> or <b> Content-Based filtering approach. "
   ]
  },
  {
   "cell_type": "markdown",
   "metadata": {},
   "source": [
    "![](http://miro.medium.com/max/1600/1*dMR3xmufnmKiw4crlisQUA.png)"
   ]
  },
  {
   "cell_type": "markdown",
   "metadata": {},
   "source": [
    "Here we will be recommending movies to the users who have watched movie 'Jurassic Park (1993)' using <b> Collaborative Filtering</b>"
   ]
  },
  {
   "cell_type": "markdown",
   "metadata": {},
   "source": [
    "# Import necessary libraries"
   ]
  },
  {
   "cell_type": "code",
   "execution_count": 1,
   "metadata": {
    "_cell_guid": "79c7e3d0-c299-4dcb-8224-4455121ee9b0",
    "_uuid": "d629ff2d2480ee46fbb7e2d37f6b5fab8052498a"
   },
   "outputs": [],
   "source": [
    "import pandas as pd\n",
    "import numpy as np\n",
    "import matplotlib.pyplot as plt\n",
    "%matplotlib inline\n",
    "import seaborn as sns"
   ]
  },
  {
   "cell_type": "markdown",
   "metadata": {},
   "source": [
    "# Import the data set"
   ]
  },
  {
   "cell_type": "markdown",
   "metadata": {},
   "source": [
    "Importing the rating data set which contains ratings given by the users to the movies they watched."
   ]
  },
  {
   "cell_type": "code",
   "execution_count": 2,
   "metadata": {},
   "outputs": [],
   "source": [
    "rating = pd.read_csv('../input/movielens-latest-small/ratings.csv')"
   ]
  },
  {
   "cell_type": "code",
   "execution_count": 3,
   "metadata": {},
   "outputs": [
    {
     "data": {
      "text/html": [
       "<div>\n",
       "<style scoped>\n",
       "    .dataframe tbody tr th:only-of-type {\n",
       "        vertical-align: middle;\n",
       "    }\n",
       "\n",
       "    .dataframe tbody tr th {\n",
       "        vertical-align: top;\n",
       "    }\n",
       "\n",
       "    .dataframe thead th {\n",
       "        text-align: right;\n",
       "    }\n",
       "</style>\n",
       "<table border=\"1\" class=\"dataframe\">\n",
       "  <thead>\n",
       "    <tr style=\"text-align: right;\">\n",
       "      <th></th>\n",
       "      <th>userId</th>\n",
       "      <th>movieId</th>\n",
       "      <th>rating</th>\n",
       "      <th>timestamp</th>\n",
       "    </tr>\n",
       "  </thead>\n",
       "  <tbody>\n",
       "    <tr>\n",
       "      <th>0</th>\n",
       "      <td>1</td>\n",
       "      <td>1</td>\n",
       "      <td>4.0</td>\n",
       "      <td>964982703</td>\n",
       "    </tr>\n",
       "    <tr>\n",
       "      <th>1</th>\n",
       "      <td>1</td>\n",
       "      <td>3</td>\n",
       "      <td>4.0</td>\n",
       "      <td>964981247</td>\n",
       "    </tr>\n",
       "    <tr>\n",
       "      <th>2</th>\n",
       "      <td>1</td>\n",
       "      <td>6</td>\n",
       "      <td>4.0</td>\n",
       "      <td>964982224</td>\n",
       "    </tr>\n",
       "    <tr>\n",
       "      <th>3</th>\n",
       "      <td>1</td>\n",
       "      <td>47</td>\n",
       "      <td>5.0</td>\n",
       "      <td>964983815</td>\n",
       "    </tr>\n",
       "    <tr>\n",
       "      <th>4</th>\n",
       "      <td>1</td>\n",
       "      <td>50</td>\n",
       "      <td>5.0</td>\n",
       "      <td>964982931</td>\n",
       "    </tr>\n",
       "  </tbody>\n",
       "</table>\n",
       "</div>"
      ],
      "text/plain": [
       "   userId  movieId  rating  timestamp\n",
       "0       1        1     4.0  964982703\n",
       "1       1        3     4.0  964981247\n",
       "2       1        6     4.0  964982224\n",
       "3       1       47     5.0  964983815\n",
       "4       1       50     5.0  964982931"
      ]
     },
     "execution_count": 3,
     "metadata": {},
     "output_type": "execute_result"
    }
   ],
   "source": [
    "rating.head()"
   ]
  },
  {
   "cell_type": "markdown",
   "metadata": {},
   "source": [
    "Importing the movie dataset which contains the description about all the movies"
   ]
  },
  {
   "cell_type": "code",
   "execution_count": 4,
   "metadata": {},
   "outputs": [],
   "source": [
    "movies = pd.read_csv('../input/movielens-latest-small/movies.csv')"
   ]
  },
  {
   "cell_type": "code",
   "execution_count": 5,
   "metadata": {},
   "outputs": [
    {
     "data": {
      "text/html": [
       "<div>\n",
       "<style scoped>\n",
       "    .dataframe tbody tr th:only-of-type {\n",
       "        vertical-align: middle;\n",
       "    }\n",
       "\n",
       "    .dataframe tbody tr th {\n",
       "        vertical-align: top;\n",
       "    }\n",
       "\n",
       "    .dataframe thead th {\n",
       "        text-align: right;\n",
       "    }\n",
       "</style>\n",
       "<table border=\"1\" class=\"dataframe\">\n",
       "  <thead>\n",
       "    <tr style=\"text-align: right;\">\n",
       "      <th></th>\n",
       "      <th>movieId</th>\n",
       "      <th>title</th>\n",
       "      <th>genres</th>\n",
       "    </tr>\n",
       "  </thead>\n",
       "  <tbody>\n",
       "    <tr>\n",
       "      <th>0</th>\n",
       "      <td>1</td>\n",
       "      <td>Toy Story (1995)</td>\n",
       "      <td>Adventure|Animation|Children|Comedy|Fantasy</td>\n",
       "    </tr>\n",
       "    <tr>\n",
       "      <th>1</th>\n",
       "      <td>2</td>\n",
       "      <td>Jumanji (1995)</td>\n",
       "      <td>Adventure|Children|Fantasy</td>\n",
       "    </tr>\n",
       "    <tr>\n",
       "      <th>2</th>\n",
       "      <td>3</td>\n",
       "      <td>Grumpier Old Men (1995)</td>\n",
       "      <td>Comedy|Romance</td>\n",
       "    </tr>\n",
       "    <tr>\n",
       "      <th>3</th>\n",
       "      <td>4</td>\n",
       "      <td>Waiting to Exhale (1995)</td>\n",
       "      <td>Comedy|Drama|Romance</td>\n",
       "    </tr>\n",
       "    <tr>\n",
       "      <th>4</th>\n",
       "      <td>5</td>\n",
       "      <td>Father of the Bride Part II (1995)</td>\n",
       "      <td>Comedy</td>\n",
       "    </tr>\n",
       "  </tbody>\n",
       "</table>\n",
       "</div>"
      ],
      "text/plain": [
       "   movieId                               title  \\\n",
       "0        1                    Toy Story (1995)   \n",
       "1        2                      Jumanji (1995)   \n",
       "2        3             Grumpier Old Men (1995)   \n",
       "3        4            Waiting to Exhale (1995)   \n",
       "4        5  Father of the Bride Part II (1995)   \n",
       "\n",
       "                                        genres  \n",
       "0  Adventure|Animation|Children|Comedy|Fantasy  \n",
       "1                   Adventure|Children|Fantasy  \n",
       "2                               Comedy|Romance  \n",
       "3                         Comedy|Drama|Romance  \n",
       "4                                       Comedy  "
      ]
     },
     "execution_count": 5,
     "metadata": {},
     "output_type": "execute_result"
    }
   ],
   "source": [
    "movies.head()"
   ]
  },
  {
   "cell_type": "markdown",
   "metadata": {},
   "source": [
    "Let's merge both the dataset so that in ratings dataset we have complete information about the movies apart from the movie id."
   ]
  },
  {
   "cell_type": "code",
   "execution_count": 6,
   "metadata": {},
   "outputs": [],
   "source": [
    "# merging both the datasets on 'movieId' column\n",
    "movie_rating = pd.merge(left=rating,right=movies,on='movieId')"
   ]
  },
  {
   "cell_type": "code",
   "execution_count": 7,
   "metadata": {},
   "outputs": [
    {
     "data": {
      "text/html": [
       "<div>\n",
       "<style scoped>\n",
       "    .dataframe tbody tr th:only-of-type {\n",
       "        vertical-align: middle;\n",
       "    }\n",
       "\n",
       "    .dataframe tbody tr th {\n",
       "        vertical-align: top;\n",
       "    }\n",
       "\n",
       "    .dataframe thead th {\n",
       "        text-align: right;\n",
       "    }\n",
       "</style>\n",
       "<table border=\"1\" class=\"dataframe\">\n",
       "  <thead>\n",
       "    <tr style=\"text-align: right;\">\n",
       "      <th></th>\n",
       "      <th>userId</th>\n",
       "      <th>movieId</th>\n",
       "      <th>rating</th>\n",
       "      <th>timestamp</th>\n",
       "      <th>title</th>\n",
       "      <th>genres</th>\n",
       "    </tr>\n",
       "  </thead>\n",
       "  <tbody>\n",
       "    <tr>\n",
       "      <th>0</th>\n",
       "      <td>1</td>\n",
       "      <td>1</td>\n",
       "      <td>4.0</td>\n",
       "      <td>964982703</td>\n",
       "      <td>Toy Story (1995)</td>\n",
       "      <td>Adventure|Animation|Children|Comedy|Fantasy</td>\n",
       "    </tr>\n",
       "    <tr>\n",
       "      <th>1</th>\n",
       "      <td>5</td>\n",
       "      <td>1</td>\n",
       "      <td>4.0</td>\n",
       "      <td>847434962</td>\n",
       "      <td>Toy Story (1995)</td>\n",
       "      <td>Adventure|Animation|Children|Comedy|Fantasy</td>\n",
       "    </tr>\n",
       "    <tr>\n",
       "      <th>2</th>\n",
       "      <td>7</td>\n",
       "      <td>1</td>\n",
       "      <td>4.5</td>\n",
       "      <td>1106635946</td>\n",
       "      <td>Toy Story (1995)</td>\n",
       "      <td>Adventure|Animation|Children|Comedy|Fantasy</td>\n",
       "    </tr>\n",
       "    <tr>\n",
       "      <th>3</th>\n",
       "      <td>15</td>\n",
       "      <td>1</td>\n",
       "      <td>2.5</td>\n",
       "      <td>1510577970</td>\n",
       "      <td>Toy Story (1995)</td>\n",
       "      <td>Adventure|Animation|Children|Comedy|Fantasy</td>\n",
       "    </tr>\n",
       "    <tr>\n",
       "      <th>4</th>\n",
       "      <td>17</td>\n",
       "      <td>1</td>\n",
       "      <td>4.5</td>\n",
       "      <td>1305696483</td>\n",
       "      <td>Toy Story (1995)</td>\n",
       "      <td>Adventure|Animation|Children|Comedy|Fantasy</td>\n",
       "    </tr>\n",
       "  </tbody>\n",
       "</table>\n",
       "</div>"
      ],
      "text/plain": [
       "   userId  movieId  rating   timestamp             title  \\\n",
       "0       1        1     4.0   964982703  Toy Story (1995)   \n",
       "1       5        1     4.0   847434962  Toy Story (1995)   \n",
       "2       7        1     4.5  1106635946  Toy Story (1995)   \n",
       "3      15        1     2.5  1510577970  Toy Story (1995)   \n",
       "4      17        1     4.5  1305696483  Toy Story (1995)   \n",
       "\n",
       "                                        genres  \n",
       "0  Adventure|Animation|Children|Comedy|Fantasy  \n",
       "1  Adventure|Animation|Children|Comedy|Fantasy  \n",
       "2  Adventure|Animation|Children|Comedy|Fantasy  \n",
       "3  Adventure|Animation|Children|Comedy|Fantasy  \n",
       "4  Adventure|Animation|Children|Comedy|Fantasy  "
      ]
     },
     "execution_count": 7,
     "metadata": {},
     "output_type": "execute_result"
    }
   ],
   "source": [
    "movie_rating.head()"
   ]
  },
  {
   "cell_type": "code",
   "execution_count": 8,
   "metadata": {},
   "outputs": [
    {
     "data": {
      "text/plain": [
       "Index(['userId', 'movieId', 'rating', 'timestamp', 'title', 'genres'], dtype='object')"
      ]
     },
     "execution_count": 8,
     "metadata": {},
     "output_type": "execute_result"
    }
   ],
   "source": [
    "movie_rating.columns"
   ]
  },
  {
   "cell_type": "markdown",
   "metadata": {},
   "source": [
    "Getting the columns of the movie_rating dataframe in proper order"
   ]
  },
  {
   "cell_type": "code",
   "execution_count": 9,
   "metadata": {},
   "outputs": [],
   "source": [
    "movie_rating = movie_rating[['userId', 'movieId', 'title', 'genres', 'rating', 'timestamp']]"
   ]
  },
  {
   "cell_type": "code",
   "execution_count": 10,
   "metadata": {},
   "outputs": [
    {
     "data": {
      "text/html": [
       "<div>\n",
       "<style scoped>\n",
       "    .dataframe tbody tr th:only-of-type {\n",
       "        vertical-align: middle;\n",
       "    }\n",
       "\n",
       "    .dataframe tbody tr th {\n",
       "        vertical-align: top;\n",
       "    }\n",
       "\n",
       "    .dataframe thead th {\n",
       "        text-align: right;\n",
       "    }\n",
       "</style>\n",
       "<table border=\"1\" class=\"dataframe\">\n",
       "  <thead>\n",
       "    <tr style=\"text-align: right;\">\n",
       "      <th></th>\n",
       "      <th>userId</th>\n",
       "      <th>movieId</th>\n",
       "      <th>title</th>\n",
       "      <th>genres</th>\n",
       "      <th>rating</th>\n",
       "      <th>timestamp</th>\n",
       "    </tr>\n",
       "  </thead>\n",
       "  <tbody>\n",
       "    <tr>\n",
       "      <th>0</th>\n",
       "      <td>1</td>\n",
       "      <td>1</td>\n",
       "      <td>Toy Story (1995)</td>\n",
       "      <td>Adventure|Animation|Children|Comedy|Fantasy</td>\n",
       "      <td>4.0</td>\n",
       "      <td>964982703</td>\n",
       "    </tr>\n",
       "    <tr>\n",
       "      <th>1</th>\n",
       "      <td>5</td>\n",
       "      <td>1</td>\n",
       "      <td>Toy Story (1995)</td>\n",
       "      <td>Adventure|Animation|Children|Comedy|Fantasy</td>\n",
       "      <td>4.0</td>\n",
       "      <td>847434962</td>\n",
       "    </tr>\n",
       "    <tr>\n",
       "      <th>2</th>\n",
       "      <td>7</td>\n",
       "      <td>1</td>\n",
       "      <td>Toy Story (1995)</td>\n",
       "      <td>Adventure|Animation|Children|Comedy|Fantasy</td>\n",
       "      <td>4.5</td>\n",
       "      <td>1106635946</td>\n",
       "    </tr>\n",
       "    <tr>\n",
       "      <th>3</th>\n",
       "      <td>15</td>\n",
       "      <td>1</td>\n",
       "      <td>Toy Story (1995)</td>\n",
       "      <td>Adventure|Animation|Children|Comedy|Fantasy</td>\n",
       "      <td>2.5</td>\n",
       "      <td>1510577970</td>\n",
       "    </tr>\n",
       "    <tr>\n",
       "      <th>4</th>\n",
       "      <td>17</td>\n",
       "      <td>1</td>\n",
       "      <td>Toy Story (1995)</td>\n",
       "      <td>Adventure|Animation|Children|Comedy|Fantasy</td>\n",
       "      <td>4.5</td>\n",
       "      <td>1305696483</td>\n",
       "    </tr>\n",
       "  </tbody>\n",
       "</table>\n",
       "</div>"
      ],
      "text/plain": [
       "   userId  movieId             title  \\\n",
       "0       1        1  Toy Story (1995)   \n",
       "1       5        1  Toy Story (1995)   \n",
       "2       7        1  Toy Story (1995)   \n",
       "3      15        1  Toy Story (1995)   \n",
       "4      17        1  Toy Story (1995)   \n",
       "\n",
       "                                        genres  rating   timestamp  \n",
       "0  Adventure|Animation|Children|Comedy|Fantasy     4.0   964982703  \n",
       "1  Adventure|Animation|Children|Comedy|Fantasy     4.0   847434962  \n",
       "2  Adventure|Animation|Children|Comedy|Fantasy     4.5  1106635946  \n",
       "3  Adventure|Animation|Children|Comedy|Fantasy     2.5  1510577970  \n",
       "4  Adventure|Animation|Children|Comedy|Fantasy     4.5  1305696483  "
      ]
     },
     "execution_count": 10,
     "metadata": {},
     "output_type": "execute_result"
    }
   ],
   "source": [
    "movie_rating.head()"
   ]
  },
  {
   "cell_type": "markdown",
   "metadata": {},
   "source": [
    "# Exploratory Data Analysis"
   ]
  },
  {
   "cell_type": "code",
   "execution_count": 11,
   "metadata": {},
   "outputs": [
    {
     "name": "stdout",
     "output_type": "stream",
     "text": [
      "<class 'pandas.core.frame.DataFrame'>\n",
      "Int64Index: 100836 entries, 0 to 100835\n",
      "Data columns (total 6 columns):\n",
      "userId       100836 non-null int64\n",
      "movieId      100836 non-null int64\n",
      "title        100836 non-null object\n",
      "genres       100836 non-null object\n",
      "rating       100836 non-null float64\n",
      "timestamp    100836 non-null int64\n",
      "dtypes: float64(1), int64(3), object(2)\n",
      "memory usage: 5.4+ MB\n"
     ]
    }
   ],
   "source": [
    "movie_rating.info()"
   ]
  },
  {
   "cell_type": "code",
   "execution_count": 12,
   "metadata": {},
   "outputs": [
    {
     "data": {
      "text/plain": [
       "userId       0\n",
       "movieId      0\n",
       "title        0\n",
       "genres       0\n",
       "rating       0\n",
       "timestamp    0\n",
       "dtype: int64"
      ]
     },
     "execution_count": 12,
     "metadata": {},
     "output_type": "execute_result"
    }
   ],
   "source": [
    "movie_rating.isnull().sum()"
   ]
  },
  {
   "cell_type": "markdown",
   "metadata": {},
   "source": [
    "Let's create a dataframe with number of ratings and average rating for each movie\n"
   ]
  },
  {
   "cell_type": "code",
   "execution_count": 13,
   "metadata": {},
   "outputs": [
    {
     "data": {
      "text/html": [
       "<div>\n",
       "<style scoped>\n",
       "    .dataframe tbody tr th:only-of-type {\n",
       "        vertical-align: middle;\n",
       "    }\n",
       "\n",
       "    .dataframe tbody tr th {\n",
       "        vertical-align: top;\n",
       "    }\n",
       "\n",
       "    .dataframe thead th {\n",
       "        text-align: right;\n",
       "    }\n",
       "</style>\n",
       "<table border=\"1\" class=\"dataframe\">\n",
       "  <thead>\n",
       "    <tr style=\"text-align: right;\">\n",
       "      <th></th>\n",
       "      <th>userId</th>\n",
       "      <th>movieId</th>\n",
       "      <th>title</th>\n",
       "      <th>genres</th>\n",
       "      <th>rating</th>\n",
       "      <th>timestamp</th>\n",
       "    </tr>\n",
       "  </thead>\n",
       "  <tbody>\n",
       "    <tr>\n",
       "      <th>0</th>\n",
       "      <td>1</td>\n",
       "      <td>1</td>\n",
       "      <td>Toy Story (1995)</td>\n",
       "      <td>Adventure|Animation|Children|Comedy|Fantasy</td>\n",
       "      <td>4.0</td>\n",
       "      <td>964982703</td>\n",
       "    </tr>\n",
       "    <tr>\n",
       "      <th>1</th>\n",
       "      <td>5</td>\n",
       "      <td>1</td>\n",
       "      <td>Toy Story (1995)</td>\n",
       "      <td>Adventure|Animation|Children|Comedy|Fantasy</td>\n",
       "      <td>4.0</td>\n",
       "      <td>847434962</td>\n",
       "    </tr>\n",
       "  </tbody>\n",
       "</table>\n",
       "</div>"
      ],
      "text/plain": [
       "   userId  movieId             title  \\\n",
       "0       1        1  Toy Story (1995)   \n",
       "1       5        1  Toy Story (1995)   \n",
       "\n",
       "                                        genres  rating  timestamp  \n",
       "0  Adventure|Animation|Children|Comedy|Fantasy     4.0  964982703  \n",
       "1  Adventure|Animation|Children|Comedy|Fantasy     4.0  847434962  "
      ]
     },
     "execution_count": 13,
     "metadata": {},
     "output_type": "execute_result"
    }
   ],
   "source": [
    "movie_rating.head(2)"
   ]
  },
  {
   "cell_type": "code",
   "execution_count": 14,
   "metadata": {},
   "outputs": [],
   "source": [
    "# grouping the movies based on average rating\n",
    "average_rating_movies = movie_rating.groupby('title')['rating'].mean().sort_values(ascending=False)"
   ]
  },
  {
   "cell_type": "code",
   "execution_count": 15,
   "metadata": {},
   "outputs": [
    {
     "data": {
      "text/plain": [
       "title\n",
       "Karlson Returns (1970)                           5.0\n",
       "Winter in Prostokvashino (1984)                  5.0\n",
       "My Love (2006)                                   5.0\n",
       "Sorority House Massacre II (1990)                5.0\n",
       "Winnie the Pooh and the Day of Concern (1972)    5.0\n",
       "Sorority House Massacre (1986)                   5.0\n",
       "Bill Hicks: Revelations (1993)                   5.0\n",
       "My Man Godfrey (1957)                            5.0\n",
       "Hellbenders (2012)                               5.0\n",
       "In the blue sea, in the white foam. (1984)       5.0\n",
       "Name: rating, dtype: float64"
      ]
     },
     "execution_count": 15,
     "metadata": {},
     "output_type": "execute_result"
    }
   ],
   "source": [
    "average_rating_movies.head(10)"
   ]
  },
  {
   "cell_type": "code",
   "execution_count": 16,
   "metadata": {},
   "outputs": [
    {
     "data": {
      "image/png": "[encoded data removed]",
      "text/plain": [
       "<Figure size 432x288 with 1 Axes>"
      ]
     },
     "metadata": {
      "needs_background": "light"
     },
     "output_type": "display_data"
    }
   ],
   "source": [
    "average_rating_movies.hist(bins=20)\n",
    "plt.show()"
   ]
  },
  {
   "cell_type": "markdown",
   "metadata": {},
   "source": [
    "Maximum movies have average rating in the range 3 to 4. The movies which have average = 5.0 may be the ones which may have been watched once or twice."
   ]
  },
  {
   "cell_type": "code",
   "execution_count": 17,
   "metadata": {},
   "outputs": [],
   "source": [
    "# grouping the movies based on count of users who rated the movies\n",
    "count_userid = movie_rating.groupby('title')['userId'].count().sort_values(ascending=False)"
   ]
  },
  {
   "cell_type": "code",
   "execution_count": 18,
   "metadata": {},
   "outputs": [
    {
     "data": {
      "text/plain": [
       "title\n",
       "Forrest Gump (1994)                                                               329\n",
       "Shawshank Redemption, The (1994)                                                  317\n",
       "Pulp Fiction (1994)                                                               307\n",
       "Silence of the Lambs, The (1991)                                                  279\n",
       "Matrix, The (1999)                                                                278\n",
       "                                                                                 ... \n",
       "Late Night Shopping (2001)                                                          1\n",
       "Late Night with Conan O'Brien: The Best of Triumph the Insult Comic Dog (2004)      1\n",
       "Late Shift, The (1996)                                                              1\n",
       "Latter Days (2003)                                                                  1\n",
       "'71 (2014)                                                                          1\n",
       "Name: userId, Length: 9719, dtype: int64"
      ]
     },
     "execution_count": 18,
     "metadata": {},
     "output_type": "execute_result"
    }
   ],
   "source": [
    "count_userid"
   ]
  },
  {
   "cell_type": "code",
   "execution_count": 19,
   "metadata": {},
   "outputs": [
    {
     "data": {
      "image/png": "[encoded data removed]",
      "text/plain": [
       "<Figure size 432x288 with 1 Axes>"
      ]
     },
     "metadata": {
      "needs_background": "light"
     },
     "output_type": "display_data"
    }
   ],
   "source": [
    "count_userid.hist()\n",
    "plt.show()"
   ]
  },
  {
   "cell_type": "markdown",
   "metadata": {},
   "source": [
    "Maximum movies have been viewed in the range 0 - 40 views"
   ]
  },
  {
   "cell_type": "markdown",
   "metadata": {},
   "source": [
    "The movies which have average = 5.0 may be the ones which may have been watched once or twice. Let's see number of ratings given to movies which have average rating = 5.0"
   ]
  },
  {
   "cell_type": "code",
   "execution_count": 20,
   "metadata": {},
   "outputs": [
    {
     "name": "stdout",
     "output_type": "stream",
     "text": [
      "Karlson Returns (1970) 1\n",
      "Winter in Prostokvashino (1984) 1\n",
      "My Love (2006) 1\n",
      "Sorority House Massacre II (1990) 1\n",
      "Winnie the Pooh and the Day of Concern (1972) 1\n",
      "Sorority House Massacre (1986) 1\n",
      "Bill Hicks: Revelations (1993) 1\n",
      "My Man Godfrey (1957) 1\n",
      "Hellbenders (2012) 1\n",
      "In the blue sea, in the white foam. (1984) 1\n",
      "Won't You Be My Neighbor? (2018) 1\n",
      "Red Sorghum (Hong gao liang) (1987) 1\n",
      "Love Exposure (Ai No Mukidashi) (2008) 1\n",
      "My Sassy Girl (Yeopgijeogin geunyeo) (2001) 1\n",
      "The Love Bug (1997) 1\n",
      "Ballad of Narayama, The (Narayama bushiko) (1983) 1\n",
      "Heidi Fleiss: Hollywood Madam (1995) 2\n",
      "Louis Theroux: Law & Disorder (2008) 1\n",
      "Winnie the Pooh Goes Visiting (1971) 1\n",
      "In the Realm of the Senses (Ai no corrida) (1976) 1\n",
      "Winnie Pooh (1969) 1\n",
      "Ex Drummer (2007) 1\n",
      "Tom Segura: Mostly Stories (2016) 1\n",
      "Tom and Jerry: A Nutcracker Tale (2007) 1\n",
      "A Plasticine Crow (1981) 1\n",
      "Tom and Jerry: Shiver Me Whiskers (2006) 1\n",
      "Cosmic Scrat-tastrophe (2015) 1\n",
      "Delirium (2014) 1\n",
      "Lumberjack Man (2015) 1\n",
      "Loving Vincent (2017) 1\n",
      "Five Senses, The (1999) 1\n",
      "My Left Eye Sees Ghosts (Ngo joh aan gin diy gwai) (2002) 1\n",
      "Denise Calls Up (1995) 1\n",
      "My Life as McDull (Mak dau goo si) (2001) 1\n",
      "Sherlock Holmes and Dr. Watson: Acquaintance (1979) 1\n",
      "Love and Pigeons (1985) 1\n",
      "Wings, Legs and Tails (1986) 1\n",
      "Story of Women (Affaire de femmes, Une) (1988) 1\n",
      "Presto (2008) 1\n",
      "Mystery of the Third Planet, The (Tayna tretey planety) (1981) 1\n",
      "Little Murders (1971) 1\n",
      "Woman Is a Woman, A (femme est une femme, Une) (1961) 1\n",
      "Son of the Bride (Hijo de la novia, El) (2001) 1\n",
      "Woman Under the Influence, A (1974) 1\n",
      "Harlan County U.S.A. (1976) 1\n",
      "Come and See (Idi i smotri) (1985) 2\n",
      "Four Days in September (O Que É Isso, Companheiro?) (1997) 1\n",
      "Breed, The (2006) 1\n",
      "Scooby-Doo! and the Samurai Sword (2009) 1\n",
      "Watching the Detectives (2007) 1\n",
      "Scooby-Doo! and the Loch Ness Monster (2004) 1\n",
      "20 Million Miles to Earth (1957) 1\n",
      "Into the Abyss (2011) 1\n",
      "The Girls (1961) 1\n",
      "Meantime (1984) 1\n",
      "The Girl with All the Gifts (2016) 1\n",
      "Little Dieter Needs to Fly (1997) 1\n",
      "Live Nude Girls (1995) 1\n",
      "Indignation (2016) 1\n",
      "Formula of Love (1984) 1\n",
      "Belle époque (1992) 2\n",
      "Nasu: Summer in Andalusia (2003) 1\n",
      "National Lampoon's Bag Boy (2007) 1\n",
      "Continental Divide (1981) 1\n",
      "Superman/Batman: Public Enemies (2009) 1\n",
      "The Jinx: The Life and Deaths of Robert Durst (2015) 1\n",
      "Reform School Girls (1986) 1\n",
      "American Friend, The (Amerikanische Freund, Der) (1977) 1\n",
      "Shogun Assassin (1980) 1\n",
      "Connections (1978) 1\n",
      "Trailer Park Boys (1999) 1\n",
      "Sonatine (Sonachine) (1993) 1\n",
      "Eva (2011) 1\n",
      "Travels of an Ant (1983) 1\n",
      "Watermark (2014) 1\n",
      "A Perfect Day (2015) 1\n",
      "Tom Segura: Completely Normal (2014) 1\n",
      "Madame Sousatzka (1988) 1\n",
      "Mickey's Once Upon a Christmas (1999) 1\n",
      "61* (2001) 1\n",
      "Tickling Giants (2017) 1\n",
      "Buzzard (2015) 1\n",
      "Duel in the Sun (1946) 1\n",
      "Who Killed Chea Vichea? (2010) 1\n",
      "Black Tar Heroin: The Dark End of the Street (2000) 1\n",
      "Faster (2010) 1\n",
      "Thin Line Between Love and Hate, A (1996) 1\n",
      "When Worlds Collide (1951) 1\n",
      "Black Mirror 1\n",
      "Martin Lawrence Live: Runteldat (2002) 1\n",
      "Miss Nobody (2010) 1\n",
      "Marriage of Maria Braun, The (Ehe der Maria Braun, Die) (1979) 1\n",
      "A Detective Story (2003) 1\n",
      "Maniac Cop 2 (1990) 1\n",
      "Human (2015) 1\n",
      "Seve (2014) 1\n",
      "Summer's Tale, A (Conte d'été) (1996) 1\n",
      "Match Factory Girl, The (Tulitikkutehtaan tyttö) (1990) 1\n",
      "De platte jungle (1978) 1\n",
      "Hype! (1996) 1\n",
      "9/11 (2002) 1\n",
      "Thousand Clowns, A (1965) 1\n",
      "Hunting Elephants (2013) 1\n",
      "Raise Your Voice (2004) 1\n",
      "Animals are Beautiful People (1974) 1\n",
      "Three from Prostokvashino (1978) 1\n",
      "Max Manus (2008) 1\n",
      "I Am Not Your Negro (2017) 1\n",
      "Mephisto (1981) 1\n",
      "Human Condition III, The (Ningen no joken III) (1961) 1\n",
      "Radio Day (2008) 1\n",
      "Stuart Little 3: Call of the Wild (2005) 1\n",
      "7 Faces of Dr. Lao (1964) 1\n",
      "Seems Like Old Times (1980) 1\n",
      "Strictly Sexual (2008) 1\n",
      "Willy/Milly (1986) 1\n",
      "Hollywood Shuffle (1987) 1\n",
      "Mother (Madeo) (2009) 1\n",
      "Hollywood Chainsaw Hookers (1988) 1\n",
      "Brother (Brat) (1997) 1\n",
      "Crossing Delancey (1988) 1\n",
      "Crippled Avengers (Can que) (Return of the 5 Deadly Venoms) (1981) 1\n",
      "What Happened Was... (1994) 1\n",
      "Deathgasm (2015) 1\n",
      "Mr. Skeffington (1944) 1\n",
      "Idiots and Angels (2008) 1\n",
      "Spellbound (2011) 1\n",
      "Decalogue, The (Dekalog) (1989) 1\n",
      "Craig Ferguson: I'm Here To Help (2013) 1\n",
      "Tokyo Tribe (2014) 1\n",
      "Priklyucheniya Kapitana Vrungelya (1979) 1\n",
      "Supercop 2 (Project S) (Chao ji ji hua) (1993) 1\n",
      "Ice Age: The Great Egg-Scapade (2016) 1\n",
      "Holy Motors (2012) 1\n",
      "Sun Alley (Sonnenallee) (1999) 1\n",
      "Man and a Woman, A (Un homme et une femme) (1966) 1\n",
      "There Once Was a Dog (1982) 1\n",
      "A Flintstones Christmas Carol (1994) 1\n",
      "Man with the Golden Arm, The (1955) 1\n",
      "Calcium Kid, The (2004) 1\n",
      "Bitter Lake (2015) 1\n",
      "I'm the One That I Want (2000) 1\n",
      "Monster Squad, The (1987) 1\n",
      "I, the Jury (1982) 1\n",
      "What Men Talk About (2010) 1\n",
      "Moonlight 1\n",
      "More (1998) 1\n",
      "Death Note: Desu nôto (2006–2007) 1\n",
      "What Love Is (2007) 1\n",
      "Cruel Romance, A (Zhestokij Romans) (1984) 1\n",
      "Moscow Does Not Believe in Tears (Moskva slezam ne verit) (1979) 1\n",
      "Scooby-Doo! Curse of the Lake Monster (2010) 1\n",
      "Four Seasons, The (1981) 1\n",
      "Colourful (Karafuru) (2010) 1\n",
      "King of Hearts (1966) 1\n",
      "Runaway Brain (1995)  1\n",
      "Adventures Of Sherlock Holmes And Dr. Watson: The Twentieth Century Approaches (1986) 1\n",
      "Chinese Puzzle (Casse-tête chinois) (2013) 1\n",
      "Villain (1971) 1\n",
      "PK (2014) 1\n",
      "Eichmann (2007) 1\n",
      "Dragons: Gift of the Night Fury (2011) 1\n",
      "Galaxy of Terror (Quest) (1981) 1\n",
      "Jonah Who Will Be 25 in the Year 2000 (Jonas qui aura 25 ans en l'an 2000) (1976) 2\n",
      "Palindromes (2004) 1\n",
      "Snowflake, the White Gorilla (2011) 1\n",
      "Girls About Town (1931) 1\n",
      "Awfully Big Adventure, An (1995) 1\n",
      "Paper Birds (Pájaros de papel) (2010) 1\n",
      "Stand, The (1994) 1\n",
      "Go for Zucker! (Alles auf Zucker!) (2004) 1\n",
      "Oscar (1967) 1\n",
      "Fugitives (1986) 1\n",
      "Tenchi Muyô! In Love (1996) 1\n",
      "Alesha Popovich and Tugarin the Dragon (2004) 1\n",
      "Lady Jane (1986) 1\n",
      "Into the Forest of Fireflies' Light (2011) 1\n",
      "Kung Fu Panda: Secrets of the Masters (2011) 1\n",
      "Only Lovers Left Alive (2013) 1\n",
      "Unfaithfully Yours (1948) 1\n",
      "Ooops! Noah is Gone... (2015) 1\n",
      "Going Places (Valseuses, Les) (1974) 1\n",
      "Open Hearts (Elsker dig for evigt) (2002) 1\n",
      "Chump at Oxford, A (1940) 1\n",
      "Unicorn City (2012) 1\n",
      "Knock Off (1998) 1\n",
      "12 Chairs (1976) 1\n",
      "12 Angry Men (1997) 1\n",
      "Blue Planet II (2017) 1\n",
      "Sandpiper, The (1965) 1\n",
      "Dream of Light (a.k.a. Quince Tree Sun, The) (Sol del membrillo, El) (1992) 1\n",
      "Cherish (2002) 1\n",
      "SORI: Voice from the Heart (2016) 1\n",
      "Junior and Karlson (1968) 1\n",
      "Bobik Visiting Barbos (1977) 1\n",
      "Get Low (2009) 1\n",
      "Valet, The (La doublure) (2006) 1\n",
      "Vampire in Venice (Nosferatu a Venezia) (Nosferatu in Venice) (1986) 1\n",
      "Dylan Moran: Monster (2004) 1\n",
      "Justice League: Doom (2012)  1\n",
      "Peaceful Warrior (2006) 1\n",
      "Advise and Consent (1962) 1\n",
      "George Carlin: You Are All Diseased (1999) 1\n",
      "George Carlin: Life Is Worth Losing (2005) 1\n",
      "'Salem's Lot (2004) 1\n",
      "George Carlin: Jammin' in New York (1992) 1\n",
      "George Carlin: It's Bad for Ya! (2008) 1\n",
      "George Carlin: Back in Town (1996) 1\n",
      "Vagabond (Sans toit ni loi) (1985) 1\n",
      "Che: Part One (2008) 1\n",
      "Slumber Party Massacre III (1990) 1\n",
      "Babes in Toyland (1934) 1\n",
      "Very Potter Sequel, A (2010) 1\n",
      "Jump In! (2007) 1\n",
      "Zeitgeist: Moving Forward (2011) 1\n",
      "Vacations in Prostokvashino (1980) 1\n",
      "Particle Fever (2013) 1\n",
      "Cheburashka (1971) 1\n",
      "Garden of Words, The (Koto no ha no niwa) (2013) 1\n",
      "Slumber Party Massacre II (1987) 1\n",
      "Garfield's Pet Force (2009) 1\n",
      "Che: Part Two (2008) 1\n",
      "Tales of Manhattan (1942) 1\n",
      "Ghost Graduation (2012) 1\n",
      "Passenger, The (Professione: reporter) (1975) 1\n",
      "Gena the Crocodile (1969) 1\n",
      "Vovka in the Kingdom of Far Far Away (1965) 1\n",
      "L.A. Slasher (2015) 1\n",
      "One I Love, The (2014) 1\n",
      "World of Glory (1991) 1\n",
      "The Editor (2015) 1\n",
      "Lesson Faust (1994) 2\n",
      "Guy X (2005) 1\n",
      "Assignment, The (1997) 1\n",
      "Wow! A Talking Fish! (1983) 1\n",
      "English Vinglish (2012) 1\n",
      "All the Vermeers in New York (1990) 1\n",
      "Battle Royale 2: Requiem (Batoru rowaiaru II: Chinkonka) (2003) 1\n",
      "Asterix and the Vikings (Astérix et les Vikings) (2006) 1\n",
      "Branded to Kill (Koroshi no rakuin) (1967) 1\n",
      "All Yours (2016) 1\n",
      "Bloodsucking Bastards (2015) 1\n",
      "Empties (2007) 1\n",
      "Jane Eyre (1944) 1\n",
      "Last Year's Snow Was Falling (1983) 1\n",
      "Battle For Sevastopol (2015) 1\n",
      "True Stories (1986) 1\n",
      "Obsession (1965) 1\n",
      "Light Years (Gandahar) (1988) 1\n",
      "Scooby-Doo! Abracadabra-Doo (2010) 1\n",
      "Wonder Woman (2009) 1\n",
      "Into the Woods (1991) 1\n",
      "Happy Feet Two (2011) 1\n",
      "The Fox and the Hound 2 (2006) 1\n",
      "Trinity and Sartana Are Coming (1972) 1\n",
      "Investigation Held by Kolobki (1986) 1\n",
      "Nine Lives of Tomas Katz, The (2000) 1\n",
      "Scooby-Doo Goes Hollywood (1979) 1\n",
      "Return to Treasure Island (1988) 1\n",
      "Entertaining Angels: The Dorothy Day Story (1996) 1\n",
      "The Eye: Infinity (2005) 1\n",
      "Enter the Void (2009) 2\n",
      "Siam Sunset (1999) 1\n",
      "Big Top Scooby-Doo! (2012) 1\n",
      "Rivers and Tides (2001) 1\n",
      "Rain (2001) 1\n",
      "The Adventures of Sherlock Holmes and Dr. Watson: Bloody Signature (1979) 1\n",
      "Ugly Duckling and Me!, The (2006) 1\n",
      "On the Other Side of the Tracks (De l'autre côté du périph) (2012) 1\n",
      "Bossa Nova (2000) 1\n",
      "The Adventures of Sherlock Holmes and Doctor Watson 1\n",
      "The Adventures of Sherlock Holmes and Doctor Watson: King of Blackmailers (1980) 1\n",
      "Act of Killing, The (2012) 1\n",
      "The Adventures of Sherlock Holmes and Doctor Watson: The Treasures of Agra (1983) 1\n",
      "Satin Rouge (2002) 1\n",
      "Front of the Class (2008) 1\n",
      "Two Family House (2000) 1\n",
      "On the Trail of the Bremen Town Musicians (1973) 1\n",
      "Larry David: Curb Your Enthusiasm (1999) 1\n",
      "Umberto D. (1952) 1\n",
      "Dr. Goldfoot and the Bikini Machine (1965) 1\n",
      "Goodbye Charlie (1964) 1\n",
      "Down Argentine Way (1940) 1\n",
      "Sisters (Syostry) (2001) 1\n",
      "Saving Santa (2013) 1\n",
      "The Bremen Town Musicians (1969) 1\n",
      "Laggies (2014) 1\n",
      "Tyler Perry's I Can Do Bad All by Myself (2009) 1\n",
      "Alien Contamination (1980) 1\n",
      "Last Hurrah for Chivalry (Hao xia) (1979) 1\n",
      "On the Ropes (1999) 1\n",
      "Odd Life of Timothy Green, The (2012) 1\n",
      "Boy Eats Girl (2005) 1\n",
      "Saving Face (2004) 1\n",
      "Lamerica (1994) 2\n",
      "The Big Bus (1976) 1\n"
     ]
    }
   ],
   "source": [
    "for movie in average_rating_movies[average_rating_movies==5.0].index:\n",
    "    print(movie,count_userid[movie])"
   ]
  },
  {
   "cell_type": "code",
   "execution_count": 21,
   "metadata": {},
   "outputs": [],
   "source": [
    "# grouping the movie_rating based on count on userId and mean on rating\n",
    "userid_rating = movie_rating.groupby('title')[['userId','rating']].agg({'userId':'count','rating':'mean'}).round(2).sort_values(by='userId',ascending=False)"
   ]
  },
  {
   "cell_type": "code",
   "execution_count": 22,
   "metadata": {},
   "outputs": [
    {
     "data": {
      "text/html": [
       "<div>\n",
       "<style scoped>\n",
       "    .dataframe tbody tr th:only-of-type {\n",
       "        vertical-align: middle;\n",
       "    }\n",
       "\n",
       "    .dataframe tbody tr th {\n",
       "        vertical-align: top;\n",
       "    }\n",
       "\n",
       "    .dataframe thead th {\n",
       "        text-align: right;\n",
       "    }\n",
       "</style>\n",
       "<table border=\"1\" class=\"dataframe\">\n",
       "  <thead>\n",
       "    <tr style=\"text-align: right;\">\n",
       "      <th></th>\n",
       "      <th>userId</th>\n",
       "      <th>rating</th>\n",
       "    </tr>\n",
       "    <tr>\n",
       "      <th>title</th>\n",
       "      <th></th>\n",
       "      <th></th>\n",
       "    </tr>\n",
       "  </thead>\n",
       "  <tbody>\n",
       "    <tr>\n",
       "      <th>Forrest Gump (1994)</th>\n",
       "      <td>329</td>\n",
       "      <td>4.16</td>\n",
       "    </tr>\n",
       "    <tr>\n",
       "      <th>Shawshank Redemption, The (1994)</th>\n",
       "      <td>317</td>\n",
       "      <td>4.43</td>\n",
       "    </tr>\n",
       "    <tr>\n",
       "      <th>Pulp Fiction (1994)</th>\n",
       "      <td>307</td>\n",
       "      <td>4.20</td>\n",
       "    </tr>\n",
       "    <tr>\n",
       "      <th>Silence of the Lambs, The (1991)</th>\n",
       "      <td>279</td>\n",
       "      <td>4.16</td>\n",
       "    </tr>\n",
       "    <tr>\n",
       "      <th>Matrix, The (1999)</th>\n",
       "      <td>278</td>\n",
       "      <td>4.19</td>\n",
       "    </tr>\n",
       "  </tbody>\n",
       "</table>\n",
       "</div>"
      ],
      "text/plain": [
       "                                  userId  rating\n",
       "title                                           \n",
       "Forrest Gump (1994)                  329    4.16\n",
       "Shawshank Redemption, The (1994)     317    4.43\n",
       "Pulp Fiction (1994)                  307    4.20\n",
       "Silence of the Lambs, The (1991)     279    4.16\n",
       "Matrix, The (1999)                   278    4.19"
      ]
     },
     "execution_count": 22,
     "metadata": {},
     "output_type": "execute_result"
    }
   ],
   "source": [
    "userid_rating.head()"
   ]
  },
  {
   "cell_type": "markdown",
   "metadata": {},
   "source": [
    "# Building Recommendation System"
   ]
  },
  {
   "cell_type": "code",
   "execution_count": 23,
   "metadata": {},
   "outputs": [],
   "source": [
    "# creating pivot table to create item by item collaborative filtering\n",
    "movie_rating_pivot = pd.pivot_table(index='userId',columns='title',values='rating',data=movie_rating)"
   ]
  },
  {
   "cell_type": "markdown",
   "metadata": {},
   "source": [
    "There will be many Nan values because users have watched only few of the movies and given ratings only to those movies"
   ]
  },
  {
   "cell_type": "code",
   "execution_count": 24,
   "metadata": {},
   "outputs": [
    {
     "data": {
      "text/html": [
       "<div>\n",
       "<style scoped>\n",
       "    .dataframe tbody tr th:only-of-type {\n",
       "        vertical-align: middle;\n",
       "    }\n",
       "\n",
       "    .dataframe tbody tr th {\n",
       "        vertical-align: top;\n",
       "    }\n",
       "\n",
       "    .dataframe thead th {\n",
       "        text-align: right;\n",
       "    }\n",
       "</style>\n",
       "<table border=\"1\" class=\"dataframe\">\n",
       "  <thead>\n",
       "    <tr style=\"text-align: right;\">\n",
       "      <th>title</th>\n",
       "      <th>'71 (2014)</th>\n",
       "      <th>'Hellboy': The Seeds of Creation (2004)</th>\n",
       "      <th>'Round Midnight (1986)</th>\n",
       "      <th>'Salem's Lot (2004)</th>\n",
       "      <th>'Til There Was You (1997)</th>\n",
       "      <th>'Tis the Season for Love (2015)</th>\n",
       "      <th>'burbs, The (1989)</th>\n",
       "      <th>'night Mother (1986)</th>\n",
       "      <th>(500) Days of Summer (2009)</th>\n",
       "      <th>*batteries not included (1987)</th>\n",
       "      <th>...</th>\n",
       "      <th>Zulu (2013)</th>\n",
       "      <th>[REC] (2007)</th>\n",
       "      <th>[REC]² (2009)</th>\n",
       "      <th>[REC]³ 3 Génesis (2012)</th>\n",
       "      <th>anohana: The Flower We Saw That Day - The Movie (2013)</th>\n",
       "      <th>eXistenZ (1999)</th>\n",
       "      <th>xXx (2002)</th>\n",
       "      <th>xXx: State of the Union (2005)</th>\n",
       "      <th>¡Three Amigos! (1986)</th>\n",
       "      <th>À nous la liberté (Freedom for Us) (1931)</th>\n",
       "    </tr>\n",
       "    <tr>\n",
       "      <th>userId</th>\n",
       "      <th></th>\n",
       "      <th></th>\n",
       "      <th></th>\n",
       "      <th></th>\n",
       "      <th></th>\n",
       "      <th></th>\n",
       "      <th></th>\n",
       "      <th></th>\n",
       "      <th></th>\n",
       "      <th></th>\n",
       "      <th></th>\n",
       "      <th></th>\n",
       "      <th></th>\n",
       "      <th></th>\n",
       "      <th></th>\n",
       "      <th></th>\n",
       "      <th></th>\n",
       "      <th></th>\n",
       "      <th></th>\n",
       "      <th></th>\n",
       "      <th></th>\n",
       "    </tr>\n",
       "  </thead>\n",
       "  <tbody>\n",
       "    <tr>\n",
       "      <th>1</th>\n",
       "      <td>NaN</td>\n",
       "      <td>NaN</td>\n",
       "      <td>NaN</td>\n",
       "      <td>NaN</td>\n",
       "      <td>NaN</td>\n",
       "      <td>NaN</td>\n",
       "      <td>NaN</td>\n",
       "      <td>NaN</td>\n",
       "      <td>NaN</td>\n",
       "      <td>NaN</td>\n",
       "      <td>...</td>\n",
       "      <td>NaN</td>\n",
       "      <td>NaN</td>\n",
       "      <td>NaN</td>\n",
       "      <td>NaN</td>\n",
       "      <td>NaN</td>\n",
       "      <td>NaN</td>\n",
       "      <td>NaN</td>\n",
       "      <td>NaN</td>\n",
       "      <td>4.0</td>\n",
       "      <td>NaN</td>\n",
       "    </tr>\n",
       "    <tr>\n",
       "      <th>2</th>\n",
       "      <td>NaN</td>\n",
       "      <td>NaN</td>\n",
       "      <td>NaN</td>\n",
       "      <td>NaN</td>\n",
       "      <td>NaN</td>\n",
       "      <td>NaN</td>\n",
       "      <td>NaN</td>\n",
       "      <td>NaN</td>\n",
       "      <td>NaN</td>\n",
       "      <td>NaN</td>\n",
       "      <td>...</td>\n",
       "      <td>NaN</td>\n",
       "      <td>NaN</td>\n",
       "      <td>NaN</td>\n",
       "      <td>NaN</td>\n",
       "      <td>NaN</td>\n",
       "      <td>NaN</td>\n",
       "      <td>NaN</td>\n",
       "      <td>NaN</td>\n",
       "      <td>NaN</td>\n",
       "      <td>NaN</td>\n",
       "    </tr>\n",
       "    <tr>\n",
       "      <th>3</th>\n",
       "      <td>NaN</td>\n",
       "      <td>NaN</td>\n",
       "      <td>NaN</td>\n",
       "      <td>NaN</td>\n",
       "      <td>NaN</td>\n",
       "      <td>NaN</td>\n",
       "      <td>NaN</td>\n",
       "      <td>NaN</td>\n",
       "      <td>NaN</td>\n",
       "      <td>NaN</td>\n",
       "      <td>...</td>\n",
       "      <td>NaN</td>\n",
       "      <td>NaN</td>\n",
       "      <td>NaN</td>\n",
       "      <td>NaN</td>\n",
       "      <td>NaN</td>\n",
       "      <td>NaN</td>\n",
       "      <td>NaN</td>\n",
       "      <td>NaN</td>\n",
       "      <td>NaN</td>\n",
       "      <td>NaN</td>\n",
       "    </tr>\n",
       "    <tr>\n",
       "      <th>4</th>\n",
       "      <td>NaN</td>\n",
       "      <td>NaN</td>\n",
       "      <td>NaN</td>\n",
       "      <td>NaN</td>\n",
       "      <td>NaN</td>\n",
       "      <td>NaN</td>\n",
       "      <td>NaN</td>\n",
       "      <td>NaN</td>\n",
       "      <td>NaN</td>\n",
       "      <td>NaN</td>\n",
       "      <td>...</td>\n",
       "      <td>NaN</td>\n",
       "      <td>NaN</td>\n",
       "      <td>NaN</td>\n",
       "      <td>NaN</td>\n",
       "      <td>NaN</td>\n",
       "      <td>NaN</td>\n",
       "      <td>NaN</td>\n",
       "      <td>NaN</td>\n",
       "      <td>NaN</td>\n",
       "      <td>NaN</td>\n",
       "    </tr>\n",
       "    <tr>\n",
       "      <th>5</th>\n",
       "      <td>NaN</td>\n",
       "      <td>NaN</td>\n",
       "      <td>NaN</td>\n",
       "      <td>NaN</td>\n",
       "      <td>NaN</td>\n",
       "      <td>NaN</td>\n",
       "      <td>NaN</td>\n",
       "      <td>NaN</td>\n",
       "      <td>NaN</td>\n",
       "      <td>NaN</td>\n",
       "      <td>...</td>\n",
       "      <td>NaN</td>\n",
       "      <td>NaN</td>\n",
       "      <td>NaN</td>\n",
       "      <td>NaN</td>\n",
       "      <td>NaN</td>\n",
       "      <td>NaN</td>\n",
       "      <td>NaN</td>\n",
       "      <td>NaN</td>\n",
       "      <td>NaN</td>\n",
       "      <td>NaN</td>\n",
       "    </tr>\n",
       "  </tbody>\n",
       "</table>\n",
       "<p>5 rows × 9719 columns</p>\n",
       "</div>"
      ],
      "text/plain": [
       "title   '71 (2014)  'Hellboy': The Seeds of Creation (2004)  \\\n",
       "userId                                                        \n",
       "1              NaN                                      NaN   \n",
       "2              NaN                                      NaN   \n",
       "3              NaN                                      NaN   \n",
       "4              NaN                                      NaN   \n",
       "5              NaN                                      NaN   \n",
       "\n",
       "title   'Round Midnight (1986)  'Salem's Lot (2004)  \\\n",
       "userId                                                \n",
       "1                          NaN                  NaN   \n",
       "2                          NaN                  NaN   \n",
       "3                          NaN                  NaN   \n",
       "4                          NaN                  NaN   \n",
       "5                          NaN                  NaN   \n",
       "\n",
       "title   'Til There Was You (1997)  'Tis the Season for Love (2015)  \\\n",
       "userId                                                               \n",
       "1                             NaN                              NaN   \n",
       "2                             NaN                              NaN   \n",
       "3                             NaN                              NaN   \n",
       "4                             NaN                              NaN   \n",
       "5                             NaN                              NaN   \n",
       "\n",
       "title   'burbs, The (1989)  'night Mother (1986)  (500) Days of Summer (2009)  \\\n",
       "userId                                                                          \n",
       "1                      NaN                   NaN                          NaN   \n",
       "2                      NaN                   NaN                          NaN   \n",
       "3                      NaN                   NaN                          NaN   \n",
       "4                      NaN                   NaN                          NaN   \n",
       "5                      NaN                   NaN                          NaN   \n",
       "\n",
       "title   *batteries not included (1987)  ...  Zulu (2013)  [REC] (2007)  \\\n",
       "userId                                  ...                              \n",
       "1                                  NaN  ...          NaN           NaN   \n",
       "2                                  NaN  ...          NaN           NaN   \n",
       "3                                  NaN  ...          NaN           NaN   \n",
       "4                                  NaN  ...          NaN           NaN   \n",
       "5                                  NaN  ...          NaN           NaN   \n",
       "\n",
       "title   [REC]² (2009)  [REC]³ 3 Génesis (2012)  \\\n",
       "userId                                           \n",
       "1                 NaN                      NaN   \n",
       "2                 NaN                      NaN   \n",
       "3                 NaN                      NaN   \n",
       "4                 NaN                      NaN   \n",
       "5                 NaN                      NaN   \n",
       "\n",
       "title   anohana: The Flower We Saw That Day - The Movie (2013)  \\\n",
       "userId                                                           \n",
       "1                                                     NaN        \n",
       "2                                                     NaN        \n",
       "3                                                     NaN        \n",
       "4                                                     NaN        \n",
       "5                                                     NaN        \n",
       "\n",
       "title   eXistenZ (1999)  xXx (2002)  xXx: State of the Union (2005)  \\\n",
       "userId                                                                \n",
       "1                   NaN         NaN                             NaN   \n",
       "2                   NaN         NaN                             NaN   \n",
       "3                   NaN         NaN                             NaN   \n",
       "4                   NaN         NaN                             NaN   \n",
       "5                   NaN         NaN                             NaN   \n",
       "\n",
       "title   ¡Three Amigos! (1986)  À nous la liberté (Freedom for Us) (1931)  \n",
       "userId                                                                    \n",
       "1                         4.0                                        NaN  \n",
       "2                         NaN                                        NaN  \n",
       "3                         NaN                                        NaN  \n",
       "4                         NaN                                        NaN  \n",
       "5                         NaN                                        NaN  \n",
       "\n",
       "[5 rows x 9719 columns]"
      ]
     },
     "execution_count": 24,
     "metadata": {},
     "output_type": "execute_result"
    }
   ],
   "source": [
    "movie_rating_pivot.head()"
   ]
  },
  {
   "cell_type": "markdown",
   "metadata": {},
   "source": [
    "Most Rated movies:"
   ]
  },
  {
   "cell_type": "code",
   "execution_count": 25,
   "metadata": {},
   "outputs": [
    {
     "data": {
      "text/html": [
       "<div>\n",
       "<style scoped>\n",
       "    .dataframe tbody tr th:only-of-type {\n",
       "        vertical-align: middle;\n",
       "    }\n",
       "\n",
       "    .dataframe tbody tr th {\n",
       "        vertical-align: top;\n",
       "    }\n",
       "\n",
       "    .dataframe thead th {\n",
       "        text-align: right;\n",
       "    }\n",
       "</style>\n",
       "<table border=\"1\" class=\"dataframe\">\n",
       "  <thead>\n",
       "    <tr style=\"text-align: right;\">\n",
       "      <th></th>\n",
       "      <th>userId</th>\n",
       "      <th>rating</th>\n",
       "    </tr>\n",
       "    <tr>\n",
       "      <th>title</th>\n",
       "      <th></th>\n",
       "      <th></th>\n",
       "    </tr>\n",
       "  </thead>\n",
       "  <tbody>\n",
       "    <tr>\n",
       "      <th>Forrest Gump (1994)</th>\n",
       "      <td>329</td>\n",
       "      <td>4.16</td>\n",
       "    </tr>\n",
       "    <tr>\n",
       "      <th>Shawshank Redemption, The (1994)</th>\n",
       "      <td>317</td>\n",
       "      <td>4.43</td>\n",
       "    </tr>\n",
       "    <tr>\n",
       "      <th>Pulp Fiction (1994)</th>\n",
       "      <td>307</td>\n",
       "      <td>4.20</td>\n",
       "    </tr>\n",
       "    <tr>\n",
       "      <th>Silence of the Lambs, The (1991)</th>\n",
       "      <td>279</td>\n",
       "      <td>4.16</td>\n",
       "    </tr>\n",
       "    <tr>\n",
       "      <th>Matrix, The (1999)</th>\n",
       "      <td>278</td>\n",
       "      <td>4.19</td>\n",
       "    </tr>\n",
       "    <tr>\n",
       "      <th>Star Wars: Episode IV - A New Hope (1977)</th>\n",
       "      <td>251</td>\n",
       "      <td>4.23</td>\n",
       "    </tr>\n",
       "    <tr>\n",
       "      <th>Jurassic Park (1993)</th>\n",
       "      <td>238</td>\n",
       "      <td>3.75</td>\n",
       "    </tr>\n",
       "    <tr>\n",
       "      <th>Braveheart (1995)</th>\n",
       "      <td>237</td>\n",
       "      <td>4.03</td>\n",
       "    </tr>\n",
       "    <tr>\n",
       "      <th>Terminator 2: Judgment Day (1991)</th>\n",
       "      <td>224</td>\n",
       "      <td>3.97</td>\n",
       "    </tr>\n",
       "    <tr>\n",
       "      <th>Schindler's List (1993)</th>\n",
       "      <td>220</td>\n",
       "      <td>4.22</td>\n",
       "    </tr>\n",
       "  </tbody>\n",
       "</table>\n",
       "</div>"
      ],
      "text/plain": [
       "                                           userId  rating\n",
       "title                                                    \n",
       "Forrest Gump (1994)                           329    4.16\n",
       "Shawshank Redemption, The (1994)              317    4.43\n",
       "Pulp Fiction (1994)                           307    4.20\n",
       "Silence of the Lambs, The (1991)              279    4.16\n",
       "Matrix, The (1999)                            278    4.19\n",
       "Star Wars: Episode IV - A New Hope (1977)     251    4.23\n",
       "Jurassic Park (1993)                          238    3.75\n",
       "Braveheart (1995)                             237    4.03\n",
       "Terminator 2: Judgment Day (1991)             224    3.97\n",
       "Schindler's List (1993)                       220    4.22"
      ]
     },
     "execution_count": 25,
     "metadata": {},
     "output_type": "execute_result"
    }
   ],
   "source": [
    "userid_rating.head(10)"
   ]
  },
  {
   "cell_type": "markdown",
   "metadata": {},
   "source": [
    "Let's find which movies to recommend to the users who have watched 'Jurassic Park (1993)'. \n",
    "To do this we have to find correlation of 'Jurassic Park (1993)' with other movies which have been rated in a similar way by the users."
   ]
  },
  {
   "cell_type": "code",
   "execution_count": 26,
   "metadata": {},
   "outputs": [],
   "source": [
    "# assigning ratings of movie 'Jurassic Park (1993)' to a new variable from movie_rating_pivot\n",
    "jurassic_park = movie_rating_pivot['Jurassic Park (1993)'].head(10)"
   ]
  },
  {
   "cell_type": "code",
   "execution_count": 27,
   "metadata": {},
   "outputs": [
    {
     "data": {
      "text/plain": [
       "userId\n",
       "1     4.0\n",
       "2     NaN\n",
       "3     NaN\n",
       "4     NaN\n",
       "5     NaN\n",
       "6     5.0\n",
       "7     5.0\n",
       "8     4.0\n",
       "9     NaN\n",
       "10    NaN\n",
       "Name: Jurassic Park (1993), dtype: float64"
      ]
     },
     "execution_count": 27,
     "metadata": {},
     "output_type": "execute_result"
    }
   ],
   "source": [
    "jurassic_park.head(10)"
   ]
  },
  {
   "cell_type": "markdown",
   "metadata": {},
   "source": [
    "Find the correlation with other movies from movie_rating_pivot table"
   ]
  },
  {
   "cell_type": "code",
   "execution_count": 28,
   "metadata": {},
   "outputs": [
    {
     "name": "stderr",
     "output_type": "stream",
     "text": [
      "/opt/conda/lib/python3.6/site-packages/numpy/lib/function_base.py:2522: RuntimeWarning: Degrees of freedom <= 0 for slice\n",
      "  c = cov(x, y, rowvar)\n",
      "/opt/conda/lib/python3.6/site-packages/numpy/lib/function_base.py:2451: RuntimeWarning: divide by zero encountered in true_divide\n",
      "  c *= np.true_divide(1, fact)\n"
     ]
    }
   ],
   "source": [
    "correlation_jurassicpark = pd.DataFrame(movie_rating_pivot.corrwith(jurassic_park))"
   ]
  },
  {
   "cell_type": "code",
   "execution_count": 29,
   "metadata": {},
   "outputs": [
    {
     "data": {
      "text/html": [
       "<div>\n",
       "<style scoped>\n",
       "    .dataframe tbody tr th:only-of-type {\n",
       "        vertical-align: middle;\n",
       "    }\n",
       "\n",
       "    .dataframe tbody tr th {\n",
       "        vertical-align: top;\n",
       "    }\n",
       "\n",
       "    .dataframe thead th {\n",
       "        text-align: right;\n",
       "    }\n",
       "</style>\n",
       "<table border=\"1\" class=\"dataframe\">\n",
       "  <thead>\n",
       "    <tr style=\"text-align: right;\">\n",
       "      <th></th>\n",
       "      <th>0</th>\n",
       "    </tr>\n",
       "    <tr>\n",
       "      <th>title</th>\n",
       "      <th></th>\n",
       "    </tr>\n",
       "  </thead>\n",
       "  <tbody>\n",
       "    <tr>\n",
       "      <th>'71 (2014)</th>\n",
       "      <td>NaN</td>\n",
       "    </tr>\n",
       "    <tr>\n",
       "      <th>'Hellboy': The Seeds of Creation (2004)</th>\n",
       "      <td>NaN</td>\n",
       "    </tr>\n",
       "    <tr>\n",
       "      <th>'Round Midnight (1986)</th>\n",
       "      <td>NaN</td>\n",
       "    </tr>\n",
       "    <tr>\n",
       "      <th>'Salem's Lot (2004)</th>\n",
       "      <td>NaN</td>\n",
       "    </tr>\n",
       "    <tr>\n",
       "      <th>'Til There Was You (1997)</th>\n",
       "      <td>NaN</td>\n",
       "    </tr>\n",
       "  </tbody>\n",
       "</table>\n",
       "</div>"
      ],
      "text/plain": [
       "                                          0\n",
       "title                                      \n",
       "'71 (2014)                              NaN\n",
       "'Hellboy': The Seeds of Creation (2004) NaN\n",
       "'Round Midnight (1986)                  NaN\n",
       "'Salem's Lot (2004)                     NaN\n",
       "'Til There Was You (1997)               NaN"
      ]
     },
     "execution_count": 29,
     "metadata": {},
     "output_type": "execute_result"
    }
   ],
   "source": [
    "correlation_jurassicpark.head()"
   ]
  },
  {
   "cell_type": "markdown",
   "metadata": {},
   "source": [
    "Removing Nan values and naming the column as 'Correlation'"
   ]
  },
  {
   "cell_type": "code",
   "execution_count": 30,
   "metadata": {},
   "outputs": [],
   "source": [
    "correlation_jurassicpark.columns = ['Correlation']\n",
    "correlation_jurassicpark.dropna(inplace=True,axis=0)"
   ]
  },
  {
   "cell_type": "code",
   "execution_count": 31,
   "metadata": {},
   "outputs": [
    {
     "data": {
      "text/html": [
       "<div>\n",
       "<style scoped>\n",
       "    .dataframe tbody tr th:only-of-type {\n",
       "        vertical-align: middle;\n",
       "    }\n",
       "\n",
       "    .dataframe tbody tr th {\n",
       "        vertical-align: top;\n",
       "    }\n",
       "\n",
       "    .dataframe thead th {\n",
       "        text-align: right;\n",
       "    }\n",
       "</style>\n",
       "<table border=\"1\" class=\"dataframe\">\n",
       "  <thead>\n",
       "    <tr style=\"text-align: right;\">\n",
       "      <th></th>\n",
       "      <th>Correlation</th>\n",
       "    </tr>\n",
       "    <tr>\n",
       "      <th>title</th>\n",
       "      <th></th>\n",
       "    </tr>\n",
       "  </thead>\n",
       "  <tbody>\n",
       "    <tr>\n",
       "      <th>X-Men (2000)</th>\n",
       "      <td>-1.0</td>\n",
       "    </tr>\n",
       "    <tr>\n",
       "      <th>Austin Powers: International Man of Mystery (1997)</th>\n",
       "      <td>-1.0</td>\n",
       "    </tr>\n",
       "    <tr>\n",
       "      <th>Enemy of the State (1998)</th>\n",
       "      <td>-1.0</td>\n",
       "    </tr>\n",
       "    <tr>\n",
       "      <th>Gladiator (2000)</th>\n",
       "      <td>-1.0</td>\n",
       "    </tr>\n",
       "    <tr>\n",
       "      <th>Interview with the Vampire: The Vampire Chronicles (1994)</th>\n",
       "      <td>-1.0</td>\n",
       "    </tr>\n",
       "  </tbody>\n",
       "</table>\n",
       "</div>"
      ],
      "text/plain": [
       "                                                    Correlation\n",
       "title                                                          \n",
       "X-Men (2000)                                               -1.0\n",
       "Austin Powers: International Man of Mystery (1997)         -1.0\n",
       "Enemy of the State (1998)                                  -1.0\n",
       "Gladiator (2000)                                           -1.0\n",
       "Interview with the Vampire: The Vampire Chronic...         -1.0"
      ]
     },
     "execution_count": 31,
     "metadata": {},
     "output_type": "execute_result"
    }
   ],
   "source": [
    "correlation_jurassicpark.sort_values(by='Correlation',ascending=True).head()"
   ]
  },
  {
   "cell_type": "markdown",
   "metadata": {},
   "source": [
    "There may be movies which might have been watched only once or twice by the users who have watched 'Jurassic Park (1993)' and those movies will show high correlation. We will consider only those movies which have been viewed more than 100 times. Let's add views column in the correlation_jurassicpark data frame"
   ]
  },
  {
   "cell_type": "code",
   "execution_count": 32,
   "metadata": {},
   "outputs": [],
   "source": [
    "correlation_jurassicpark['Views'] = userid_rating['userId']"
   ]
  },
  {
   "cell_type": "markdown",
   "metadata": {},
   "source": [
    "Now filtering out top 20 movies which have views greater than 100"
   ]
  },
  {
   "cell_type": "code",
   "execution_count": 33,
   "metadata": {},
   "outputs": [
    {
     "data": {
      "text/html": [
       "<div>\n",
       "<style scoped>\n",
       "    .dataframe tbody tr th:only-of-type {\n",
       "        vertical-align: middle;\n",
       "    }\n",
       "\n",
       "    .dataframe tbody tr th {\n",
       "        vertical-align: top;\n",
       "    }\n",
       "\n",
       "    .dataframe thead th {\n",
       "        text-align: right;\n",
       "    }\n",
       "</style>\n",
       "<table border=\"1\" class=\"dataframe\">\n",
       "  <thead>\n",
       "    <tr style=\"text-align: right;\">\n",
       "      <th></th>\n",
       "      <th>Correlation</th>\n",
       "      <th>Views</th>\n",
       "    </tr>\n",
       "    <tr>\n",
       "      <th>title</th>\n",
       "      <th></th>\n",
       "      <th></th>\n",
       "    </tr>\n",
       "  </thead>\n",
       "  <tbody>\n",
       "    <tr>\n",
       "      <th>Jurassic Park (1993)</th>\n",
       "      <td>1.000000</td>\n",
       "      <td>238</td>\n",
       "    </tr>\n",
       "    <tr>\n",
       "      <th>Mission: Impossible (1996)</th>\n",
       "      <td>1.000000</td>\n",
       "      <td>162</td>\n",
       "    </tr>\n",
       "    <tr>\n",
       "      <th>Twister (1996)</th>\n",
       "      <td>1.000000</td>\n",
       "      <td>123</td>\n",
       "    </tr>\n",
       "    <tr>\n",
       "      <th>Speed (1994)</th>\n",
       "      <td>1.000000</td>\n",
       "      <td>171</td>\n",
       "    </tr>\n",
       "    <tr>\n",
       "      <th>Pretty Woman (1990)</th>\n",
       "      <td>1.000000</td>\n",
       "      <td>135</td>\n",
       "    </tr>\n",
       "    <tr>\n",
       "      <th>Outbreak (1995)</th>\n",
       "      <td>1.000000</td>\n",
       "      <td>101</td>\n",
       "    </tr>\n",
       "    <tr>\n",
       "      <th>Toy Story (1995)</th>\n",
       "      <td>1.000000</td>\n",
       "      <td>215</td>\n",
       "    </tr>\n",
       "    <tr>\n",
       "      <th>Twelve Monkeys (a.k.a. 12 Monkeys) (1995)</th>\n",
       "      <td>1.000000</td>\n",
       "      <td>177</td>\n",
       "    </tr>\n",
       "    <tr>\n",
       "      <th>GoldenEye (1995)</th>\n",
       "      <td>1.000000</td>\n",
       "      <td>132</td>\n",
       "    </tr>\n",
       "    <tr>\n",
       "      <th>Stargate (1994)</th>\n",
       "      <td>1.000000</td>\n",
       "      <td>140</td>\n",
       "    </tr>\n",
       "    <tr>\n",
       "      <th>Clear and Present Danger (1994)</th>\n",
       "      <td>1.000000</td>\n",
       "      <td>110</td>\n",
       "    </tr>\n",
       "    <tr>\n",
       "      <th>Batman Forever (1995)</th>\n",
       "      <td>1.000000</td>\n",
       "      <td>137</td>\n",
       "    </tr>\n",
       "    <tr>\n",
       "      <th>Independence Day (a.k.a. ID4) (1996)</th>\n",
       "      <td>0.970725</td>\n",
       "      <td>202</td>\n",
       "    </tr>\n",
       "    <tr>\n",
       "      <th>Mrs. Doubtfire (1993)</th>\n",
       "      <td>0.944911</td>\n",
       "      <td>144</td>\n",
       "    </tr>\n",
       "    <tr>\n",
       "      <th>Forrest Gump (1994)</th>\n",
       "      <td>0.904534</td>\n",
       "      <td>329</td>\n",
       "    </tr>\n",
       "    <tr>\n",
       "      <th>Braveheart (1995)</th>\n",
       "      <td>0.866025</td>\n",
       "      <td>237</td>\n",
       "    </tr>\n",
       "    <tr>\n",
       "      <th>Silence of the Lambs, The (1991)</th>\n",
       "      <td>0.577350</td>\n",
       "      <td>279</td>\n",
       "    </tr>\n",
       "    <tr>\n",
       "      <th>Apollo 13 (1995)</th>\n",
       "      <td>0.500000</td>\n",
       "      <td>201</td>\n",
       "    </tr>\n",
       "    <tr>\n",
       "      <th>Mask, The (1994)</th>\n",
       "      <td>0.500000</td>\n",
       "      <td>157</td>\n",
       "    </tr>\n",
       "    <tr>\n",
       "      <th>Fugitive, The (1993)</th>\n",
       "      <td>0.500000</td>\n",
       "      <td>190</td>\n",
       "    </tr>\n",
       "  </tbody>\n",
       "</table>\n",
       "</div>"
      ],
      "text/plain": [
       "                                           Correlation  Views\n",
       "title                                                        \n",
       "Jurassic Park (1993)                          1.000000    238\n",
       "Mission: Impossible (1996)                    1.000000    162\n",
       "Twister (1996)                                1.000000    123\n",
       "Speed (1994)                                  1.000000    171\n",
       "Pretty Woman (1990)                           1.000000    135\n",
       "Outbreak (1995)                               1.000000    101\n",
       "Toy Story (1995)                              1.000000    215\n",
       "Twelve Monkeys (a.k.a. 12 Monkeys) (1995)     1.000000    177\n",
       "GoldenEye (1995)                              1.000000    132\n",
       "Stargate (1994)                               1.000000    140\n",
       "Clear and Present Danger (1994)               1.000000    110\n",
       "Batman Forever (1995)                         1.000000    137\n",
       "Independence Day (a.k.a. ID4) (1996)          0.970725    202\n",
       "Mrs. Doubtfire (1993)                         0.944911    144\n",
       "Forrest Gump (1994)                           0.904534    329\n",
       "Braveheart (1995)                             0.866025    237\n",
       "Silence of the Lambs, The (1991)              0.577350    279\n",
       "Apollo 13 (1995)                              0.500000    201\n",
       "Mask, The (1994)                              0.500000    157\n",
       "Fugitive, The (1993)                          0.500000    190"
      ]
     },
     "execution_count": 33,
     "metadata": {},
     "output_type": "execute_result"
    }
   ],
   "source": [
    "correlation_jurassicpark[correlation_jurassicpark['Views'] > 100].sort_values(by='Correlation',ascending=False).head(20)"
   ]
  },
  {
   "cell_type": "code",
   "execution_count": null,
   "metadata": {},
   "outputs": [],
   "source": []
  }
 ],
 "metadata": {
  "kernelspec": {
   "display_name": "Python 3",
   "language": "python",
   "name": "python3"
  },
  "language_info": {
   "codemirror_mode": {
    "name": "ipython",
    "version": 3
   },
   "file_extension": ".py",
   "mimetype": "text/x-python",
   "name": "python",
   "nbconvert_exporter": "python",
   "pygments_lexer": "ipython3",
   "version": "3.6.6"
  }
 },
 "nbformat": 4,
 "nbformat_minor": 1
}
